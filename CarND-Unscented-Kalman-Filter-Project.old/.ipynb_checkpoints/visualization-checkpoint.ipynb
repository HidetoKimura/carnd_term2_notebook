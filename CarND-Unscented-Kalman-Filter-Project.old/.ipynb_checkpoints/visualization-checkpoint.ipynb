{
 "cells": [
  {
   "cell_type": "code",
   "execution_count": 1,
   "metadata": {
    "collapsed": true
   },
   "outputs": [],
   "source": [
    "import numpy as np\n",
    "import matplotlib.pyplot as plt\n",
    "import pandas as pd"
   ]
  },
  {
   "cell_type": "code",
   "execution_count": 2,
   "metadata": {
    "collapsed": false
   },
   "outputs": [],
   "source": [
    "df = pd.read_table('./build/output-1.txt', sep='\\t')\n",
    "df2 = pd.read_table('./build/output-2.txt', sep='\\t')"
   ]
  },
  {
   "cell_type": "code",
   "execution_count": 3,
   "metadata": {
    "collapsed": false
   },
   "outputs": [
    {
     "data": {
      "text/html": [
       "<div>\n",
       "<table border=\"1\" class=\"dataframe\">\n",
       "  <thead>\n",
       "    <tr style=\"text-align: right;\">\n",
       "      <th></th>\n",
       "      <th>px</th>\n",
       "      <th>py</th>\n",
       "      <th>v</th>\n",
       "      <th>yaw_angle</th>\n",
       "      <th>yaw_rate</th>\n",
       "      <th>px_measured</th>\n",
       "      <th>py_measured</th>\n",
       "      <th>px_true</th>\n",
       "      <th>py_true</th>\n",
       "      <th>vx_true</th>\n",
       "      <th>vy_true</th>\n",
       "      <th>NIS</th>\n",
       "    </tr>\n",
       "  </thead>\n",
       "  <tbody>\n",
       "    <tr>\n",
       "      <th>0</th>\n",
       "      <td>8.46292</td>\n",
       "      <td>0.243462</td>\n",
       "      <td>0.000000</td>\n",
       "      <td>0.000000e+00</td>\n",
       "      <td>0.000000e+00</td>\n",
       "      <td>8.46292</td>\n",
       "      <td>0.243462</td>\n",
       "      <td>8.60</td>\n",
       "      <td>0.25</td>\n",
       "      <td>-3.00029</td>\n",
       "      <td>0.0</td>\n",
       "      <td>6.953210e-310</td>\n",
       "    </tr>\n",
       "    <tr>\n",
       "      <th>1</th>\n",
       "      <td>8.44850</td>\n",
       "      <td>0.251375</td>\n",
       "      <td>-0.000720</td>\n",
       "      <td>1.338990e-17</td>\n",
       "      <td>-2.255140e-17</td>\n",
       "      <td>8.44818</td>\n",
       "      <td>0.251553</td>\n",
       "      <td>8.45</td>\n",
       "      <td>0.25</td>\n",
       "      <td>-3.00027</td>\n",
       "      <td>0.0</td>\n",
       "      <td>2.759580e-04</td>\n",
       "    </tr>\n",
       "    <tr>\n",
       "      <th>2</th>\n",
       "      <td>8.47145</td>\n",
       "      <td>0.248799</td>\n",
       "      <td>-0.005529</td>\n",
       "      <td>3.138090e-06</td>\n",
       "      <td>3.238960e-07</td>\n",
       "      <td>8.56759</td>\n",
       "      <td>0.241943</td>\n",
       "      <td>8.45</td>\n",
       "      <td>0.25</td>\n",
       "      <td>0.00000</td>\n",
       "      <td>0.0</td>\n",
       "      <td>1.259830e-01</td>\n",
       "    </tr>\n",
       "    <tr>\n",
       "      <th>3</th>\n",
       "      <td>8.46434</td>\n",
       "      <td>0.250982</td>\n",
       "      <td>-0.008397</td>\n",
       "      <td>-2.063510e-05</td>\n",
       "      <td>-2.941100e-06</td>\n",
       "      <td>8.45582</td>\n",
       "      <td>0.253997</td>\n",
       "      <td>8.45</td>\n",
       "      <td>0.25</td>\n",
       "      <td>0.00000</td>\n",
       "      <td>0.0</td>\n",
       "      <td>6.550860e-03</td>\n",
       "    </tr>\n",
       "    <tr>\n",
       "      <th>4</th>\n",
       "      <td>8.37676</td>\n",
       "      <td>0.251326</td>\n",
       "      <td>-0.914648</td>\n",
       "      <td>1.369430e-03</td>\n",
       "      <td>3.406440e-04</td>\n",
       "      <td>8.42544</td>\n",
       "      <td>0.254042</td>\n",
       "      <td>8.35</td>\n",
       "      <td>0.25</td>\n",
       "      <td>-1.81979</td>\n",
       "      <td>0.0</td>\n",
       "      <td>1.947790e+01</td>\n",
       "    </tr>\n",
       "  </tbody>\n",
       "</table>\n",
       "</div>"
      ],
      "text/plain": [
       "        px        py         v     yaw_angle      yaw_rate  px_measured  \\\n",
       "0  8.46292  0.243462  0.000000  0.000000e+00  0.000000e+00      8.46292   \n",
       "1  8.44850  0.251375 -0.000720  1.338990e-17 -2.255140e-17      8.44818   \n",
       "2  8.47145  0.248799 -0.005529  3.138090e-06  3.238960e-07      8.56759   \n",
       "3  8.46434  0.250982 -0.008397 -2.063510e-05 -2.941100e-06      8.45582   \n",
       "4  8.37676  0.251326 -0.914648  1.369430e-03  3.406440e-04      8.42544   \n",
       "\n",
       "   py_measured  px_true  py_true  vx_true  vy_true            NIS  \n",
       "0     0.243462     8.60     0.25 -3.00029      0.0  6.953210e-310  \n",
       "1     0.251553     8.45     0.25 -3.00027      0.0   2.759580e-04  \n",
       "2     0.241943     8.45     0.25  0.00000      0.0   1.259830e-01  \n",
       "3     0.253997     8.45     0.25  0.00000      0.0   6.550860e-03  \n",
       "4     0.254042     8.35     0.25 -1.81979      0.0   1.947790e+01  "
      ]
     },
     "execution_count": 3,
     "metadata": {},
     "output_type": "execute_result"
    }
   ],
   "source": [
    "df.head(n=5)"
   ]
  },
  {
   "cell_type": "code",
   "execution_count": 4,
   "metadata": {
    "collapsed": false
   },
   "outputs": [],
   "source": [
    "fig = plt.figure(figsize=(14, 6))\n",
    "fig.suptitle('Unscented Kalman Filter', fontsize=20, fontweight='bold')\n",
    "\n",
    "ax = fig.add_subplot(121)\n",
    "fig.subplots_adjust(top=0.85)\n",
    "ax.set_title('Dataset 1', fontsize=18, fontweight='bold')\n",
    "ax.set_xlabel('x')\n",
    "ax.set_ylabel('y')\n",
    "ax.scatter(df[\"px_true\"],df[\"py_true\"],alpha=0.2, label = \"ground truth\")\n",
    "ax.scatter(df[\"px\"],df[\"py\"],alpha=0.3,marker='x',c='r', label = \"UKF\")\n",
    "ax.legend(loc='upper left')\n",
    "\n",
    "ax = fig.add_subplot(122)\n",
    "fig.subplots_adjust(top=0.85)\n",
    "ax.set_title('Dataset 2', fontsize=18, fontweight='bold')\n",
    "ax.set_xlabel('x')\n",
    "ax.set_ylabel('y')\n",
    "ax.scatter(df2[\"px_true\"],df2[\"py_true\"],alpha=0.2, label = \"ground truth\")\n",
    "ax.scatter(df2[\"px\"],df2[\"py\"],alpha=0.3,marker='x',c='r', label = \"UKF\")\n",
    "ax.legend(loc='upper left')\n",
    "\n",
    "\n",
    "plt.savefig('images/position.png')\n",
    "#plt.show()\n"
   ]
  },
  {
   "cell_type": "code",
   "execution_count": 5,
   "metadata": {
    "collapsed": false
   },
   "outputs": [],
   "source": [
    "fig = plt.figure(figsize=(14, 3))\n",
    "fig.suptitle('NIS', fontsize=20, fontweight='bold')\n",
    "\n",
    "ax = fig.add_subplot(121)\n",
    "fig.subplots_adjust(top=0.85)\n",
    "ax.set_title('Dataset 1', fontsize=18, fontweight='bold')\n",
    "ax.set_xlabel('time')\n",
    "ax.set_ylabel('chi2')\n",
    "ax.plot(df['NIS'])\n",
    "ax.plot((0, 1400), (7, 7), 'k-', linewidth=3, label = '7')\n",
    "ax.legend(loc='upper left')\n",
    "ax.axis([0, 1224 , 0, 35])\n",
    "\n",
    "ax = fig.add_subplot(122)\n",
    "fig.subplots_adjust(top=0.85)\n",
    "ax.set_title('Dataset 2', fontsize=18, fontweight='bold')\n",
    "ax.set_xlabel('time')\n",
    "ax.set_ylabel('chi2')\n",
    "ax.plot(df2['NIS'])\n",
    "ax.plot((0, 200), (7, 7), 'k-', linewidth=3, label = '7')\n",
    "ax.legend(loc='upper left')\n",
    "ax.axis([0, 200 , 0, 35])\n",
    "plt.savefig('images/NIS.png')\n",
    "#plt.show()"
   ]
  },
  {
   "cell_type": "code",
   "execution_count": 6,
   "metadata": {
    "collapsed": false
   },
   "outputs": [
    {
     "data": {
      "text/plain": [
       "1224"
      ]
     },
     "execution_count": 6,
     "metadata": {},
     "output_type": "execute_result"
    }
   ],
   "source": [
    "len(df['NIS'])"
   ]
  },
  {
   "cell_type": "code",
   "execution_count": 7,
   "metadata": {
    "collapsed": false
   },
   "outputs": [
    {
     "data": {
      "text/plain": [
       "0.07924836601307189"
      ]
     },
     "execution_count": 7,
     "metadata": {},
     "output_type": "execute_result"
    }
   ],
   "source": [
    "len(df[df['NIS']>7.8])/len(df['NIS'])"
   ]
  },
  {
   "cell_type": "code",
   "execution_count": null,
   "metadata": {
    "collapsed": true
   },
   "outputs": [],
   "source": []
  }
 ],
 "metadata": {
  "anaconda-cloud": {},
  "kernelspec": {
   "display_name": "Python 3",
   "language": "python",
   "name": "python3"
  },
  "language_info": {
   "codemirror_mode": {
    "name": "ipython",
    "version": 3
   },
   "file_extension": ".py",
   "mimetype": "text/x-python",
   "name": "python",
   "nbconvert_exporter": "python",
   "pygments_lexer": "ipython3",
   "version": "3.5.2"
  },
  "widgets": {
   "state": {},
   "version": "1.1.2"
  }
 },
 "nbformat": 4,
 "nbformat_minor": 1
}
